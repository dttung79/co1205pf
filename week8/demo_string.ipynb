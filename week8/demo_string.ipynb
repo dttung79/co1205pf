{
 "cells": [
  {
   "cell_type": "code",
   "execution_count": 2,
   "metadata": {},
   "outputs": [
    {
     "name": "stdout",
     "output_type": "stream",
     "text": [
      "PI = 3.14\n",
      "PI = 3.14e+00\n",
      "b = 123.46\n",
      "b = 1.2346e+02\n",
      "c = 0.01\n",
      "c = 1.2346e-02\n",
      "interest = 5.7%\n"
     ]
    }
   ],
   "source": [
    "PI = 3.14159\n",
    "# floating point presentation\n",
    "print(f'PI = {PI:.2f}')\n",
    "# scientific notation\n",
    "print(f'PI = {PI:.2e}')\n",
    "b = 123.4568\n",
    "print(f'b = {b:.2f}')\n",
    "print(f'b = {b:.4e}')\n",
    "c = 0.0123456789\n",
    "print(f'c = {c:.2f}')\n",
    "print(f'c = {c:.4e}')\n",
    "interest = 0.05678\n",
    "print(f'interest = {interest:.1%}')"
   ]
  },
  {
   "cell_type": "code",
   "execution_count": 4,
   "metadata": {},
   "outputs": [
    {
     "name": "stdout",
     "output_type": "stream",
     "text": [
      "c = |1.2346e-02          |\n",
      "c = |          1.2346e-02|\n",
      "c = |     1.2346e-02     |\n"
     ]
    }
   ],
   "source": [
    "print(f'c = |{c:<20.4e}|')\n",
    "print(f'c = |{c:>20.4e}|')\n",
    "print(f'c = |{c:^20.4e}|')"
   ]
  },
  {
   "cell_type": "code",
   "execution_count": 9,
   "metadata": {},
   "outputs": [
    {
     "name": "stdout",
     "output_type": "stream",
     "text": [
      "hello world\n",
      "HELLO WORLD\n",
      "Hello World\n",
      "HEllO WorlD\n",
      "heLLo wORLd\n"
     ]
    }
   ],
   "source": [
    "# String methods\n",
    "s = 'heLLo wORLd'\n",
    "print(s.lower())\n",
    "print(s.upper())\n",
    "print(s.title())\n",
    "print(s.swapcase())\n",
    "print(s)"
   ]
  },
  {
   "cell_type": "code",
   "execution_count": 16,
   "metadata": {},
   "outputs": [
    {
     "name": "stdout",
     "output_type": "stream",
     "text": [
      "|    hello   world   |\n",
      "|hello   world   |\n",
      "|    hello   world|\n",
      "|hello   world|\n",
      "|hello world|\n"
     ]
    }
   ],
   "source": [
    "s = '    hello   world   '\n",
    "print(f'|{s}|')\n",
    "print(f'|{s.lstrip()}|')            # remove leading spaces\n",
    "print(f'|{s.rstrip()}|')            # remove trailing spaces\n",
    "print(f'|{s.strip()}|')             # remove leading and trailing spaces\n",
    "print(f'|{\" \".join(s.split())}|')   # remove leading and trailing spaces and multiple spaces with single space"
   ]
  },
  {
   "cell_type": "code",
   "execution_count": 21,
   "metadata": {},
   "outputs": [
    {
     "name": "stdout",
     "output_type": "stream",
     "text": [
      "4,5,6,7,8\n",
      "['4', '5', '6', '7', '8']\n",
      "4++++5++++6++++7++++8\n"
     ]
    }
   ],
   "source": [
    "grades = '4,5,6,7,8'\n",
    "print(grades)\n",
    "grades = grades.split(',')        # split string into list\n",
    "print(grades)\n",
    "grades = '++++'.join(grades)         # join list into string\n",
    "print(grades)"
   ]
  },
  {
   "cell_type": "code",
   "execution_count": 22,
   "metadata": {},
   "outputs": [
    {
     "name": "stdout",
     "output_type": "stream",
     "text": [
      "|    Hello World     |\n",
      "|Hello World         |\n",
      "|         Hello World|\n"
     ]
    }
   ],
   "source": [
    "s = 'Hello World'\n",
    "print(f'|{s.center(20)}|')\n",
    "print(f'|{s.ljust(20)}|')\n",
    "print(f'|{s.rjust(20)}|')"
   ]
  },
  {
   "cell_type": "code",
   "execution_count": 23,
   "metadata": {},
   "outputs": [
    {
     "name": "stdout",
     "output_type": "stream",
     "text": [
      "He110 W0r1d\n"
     ]
    }
   ],
   "source": [
    "s = s.replace('l', '1')\n",
    "s = s.replace('o', '0')\n",
    "print(s)"
   ]
  },
  {
   "cell_type": "code",
   "execution_count": 24,
   "metadata": {},
   "outputs": [
    {
     "name": "stdout",
     "output_type": "stream",
     "text": [
      "11\n"
     ]
    }
   ],
   "source": [
    "print(len(s)) # length of s"
   ]
  },
  {
   "cell_type": "code",
   "execution_count": 25,
   "metadata": {},
   "outputs": [
    {
     "name": "stdout",
     "output_type": "stream",
     "text": [
      "Bob\n",
      "Peter\n"
     ]
    }
   ],
   "source": [
    "names = ['John', 'Mary', 'Peter', 'Bob']\n",
    "print(min(names))   # min of names in alphabetical order\n",
    "print(max(names))   # max of names in alphabetical order"
   ]
  },
  {
   "cell_type": "code",
   "execution_count": 26,
   "metadata": {},
   "outputs": [
    {
     "name": "stdout",
     "output_type": "stream",
     "text": [
      "George Bush\n",
      "George Washington\n"
     ]
    }
   ],
   "source": [
    "names = ['Barrack Obama', 'Donald Trump', 'George Bush', 'Bill Clinton', 'George Washington']\n",
    "print(min(names, key=len)) # min of names in length\n",
    "print(max(names, key=len)) # max of names in length\n"
   ]
  },
  {
   "cell_type": "code",
   "execution_count": 30,
   "metadata": {},
   "outputs": [],
   "source": [
    "import random as rd\n",
    "numbers = rd.sample(range(1, 100), 10)"
   ]
  },
  {
   "cell_type": "code",
   "execution_count": 33,
   "metadata": {},
   "outputs": [
    {
     "name": "stdout",
     "output_type": "stream",
     "text": [
      "[60, 55, 38, 1, 36, 12, 96, 26, 20, 3]\n",
      "96\n",
      "1\n",
      "347\n",
      "4\n"
     ]
    },
    {
     "ename": "ValueError",
     "evalue": "56 is not in list",
     "output_type": "error",
     "traceback": [
      "\u001b[0;31m---------------------------------------------------------------------------\u001b[0m",
      "\u001b[0;31mValueError\u001b[0m                                Traceback (most recent call last)",
      "\u001b[1;32m/Users/tungdt/Library/CloudStorage/GoogleDrive-dttung@gmail.com/My Drive/FPTU/Program 3+0/COMP1753 - Programming Foundation/CO1205/co1205pf/week8/demo_string.ipynb Cell 12\u001b[0m line \u001b[0;36m<cell line: 6>\u001b[0;34m()\u001b[0m\n\u001b[1;32m      <a href='vscode-notebook-cell:/Users/tungdt/Library/CloudStorage/GoogleDrive-dttung%40gmail.com/My%20Drive/FPTU/Program%203%2B0/COMP1753%20-%20Programming%20Foundation/CO1205/co1205pf/week8/demo_string.ipynb#X15sZmlsZQ%3D%3D?line=3'>4</a>\u001b[0m \u001b[39mprint\u001b[39m(\u001b[39msum\u001b[39m(numbers))\n\u001b[1;32m      <a href='vscode-notebook-cell:/Users/tungdt/Library/CloudStorage/GoogleDrive-dttung%40gmail.com/My%20Drive/FPTU/Program%203%2B0/COMP1753%20-%20Programming%20Foundation/CO1205/co1205pf/week8/demo_string.ipynb#X15sZmlsZQ%3D%3D?line=4'>5</a>\u001b[0m \u001b[39mprint\u001b[39m(numbers\u001b[39m.\u001b[39mindex(\u001b[39m36\u001b[39m))\n\u001b[0;32m----> <a href='vscode-notebook-cell:/Users/tungdt/Library/CloudStorage/GoogleDrive-dttung%40gmail.com/My%20Drive/FPTU/Program%203%2B0/COMP1753%20-%20Programming%20Foundation/CO1205/co1205pf/week8/demo_string.ipynb#X15sZmlsZQ%3D%3D?line=5'>6</a>\u001b[0m \u001b[39mprint\u001b[39m(numbers\u001b[39m.\u001b[39;49mindex(\u001b[39m56\u001b[39;49m))\n",
      "\u001b[0;31mValueError\u001b[0m: 56 is not in list"
     ]
    }
   ],
   "source": [
    "print(numbers)\n",
    "print(max(numbers))\n",
    "print(min(numbers))\n",
    "print(sum(numbers))\n",
    "print(numbers.index(36))\n",
    "print(numbers.index(56))"
   ]
  },
  {
   "cell_type": "code",
   "execution_count": 35,
   "metadata": {},
   "outputs": [
    {
     "name": "stdout",
     "output_type": "stream",
     "text": [
      "helloworld\n",
      "hellohellohello\n"
     ]
    }
   ],
   "source": [
    "s = 'hello' + 'world'\n",
    "print(s)\n",
    "s = 'hello' * 3\n",
    "print(s)"
   ]
  },
  {
   "cell_type": "code",
   "execution_count": 42,
   "metadata": {},
   "outputs": [
    {
     "name": "stdout",
     "output_type": "stream",
     "text": [
      "h\n",
      "1 1\n",
      "[100, 2, 3]\n"
     ]
    },
    {
     "ename": "TypeError",
     "evalue": "'tuple' object does not support item assignment",
     "output_type": "error",
     "traceback": [
      "\u001b[0;31m---------------------------------------------------------------------------\u001b[0m",
      "\u001b[0;31mTypeError\u001b[0m                                 Traceback (most recent call last)",
      "\u001b[1;32m/Users/tungdt/Library/CloudStorage/GoogleDrive-dttung@gmail.com/My Drive/FPTU/Program 3+0/COMP1753 - Programming Foundation/CO1205/co1205pf/week8/demo_string.ipynb Cell 14\u001b[0m line \u001b[0;36m<cell line: 8>\u001b[0;34m()\u001b[0m\n\u001b[1;32m      <a href='vscode-notebook-cell:/Users/tungdt/Library/CloudStorage/GoogleDrive-dttung%40gmail.com/My%20Drive/FPTU/Program%203%2B0/COMP1753%20-%20Programming%20Foundation/CO1205/co1205pf/week8/demo_string.ipynb#X20sZmlsZQ%3D%3D?line=5'>6</a>\u001b[0m b[\u001b[39m0\u001b[39m] \u001b[39m=\u001b[39m \u001b[39m100\u001b[39m\n\u001b[1;32m      <a href='vscode-notebook-cell:/Users/tungdt/Library/CloudStorage/GoogleDrive-dttung%40gmail.com/My%20Drive/FPTU/Program%203%2B0/COMP1753%20-%20Programming%20Foundation/CO1205/co1205pf/week8/demo_string.ipynb#X20sZmlsZQ%3D%3D?line=6'>7</a>\u001b[0m \u001b[39mprint\u001b[39m(b)\n\u001b[0;32m----> <a href='vscode-notebook-cell:/Users/tungdt/Library/CloudStorage/GoogleDrive-dttung%40gmail.com/My%20Drive/FPTU/Program%203%2B0/COMP1753%20-%20Programming%20Foundation/CO1205/co1205pf/week8/demo_string.ipynb#X20sZmlsZQ%3D%3D?line=7'>8</a>\u001b[0m a[\u001b[39m0\u001b[39m] \u001b[39m=\u001b[39m \u001b[39m100\u001b[39m\n\u001b[1;32m      <a href='vscode-notebook-cell:/Users/tungdt/Library/CloudStorage/GoogleDrive-dttung%40gmail.com/My%20Drive/FPTU/Program%203%2B0/COMP1753%20-%20Programming%20Foundation/CO1205/co1205pf/week8/demo_string.ipynb#X20sZmlsZQ%3D%3D?line=8'>9</a>\u001b[0m \u001b[39mprint\u001b[39m(a)\n",
      "\u001b[0;31mTypeError\u001b[0m: 'tuple' object does not support item assignment"
     ]
    }
   ],
   "source": [
    "print(s[0])\n",
    "#s[0] = 'H' # Error, string is immutable\n",
    "a = (1, 2, 3) # a is tuple, immutable\n",
    "b = [1, 2, 3] # b is list, mutable\n",
    "print(a[0], b[0])\n",
    "b[0] = 100\n",
    "print(b)\n",
    "a[0] = 100 # Error, tuple is immutable\n",
    "print(a)"
   ]
  },
  {
   "cell_type": "code",
   "execution_count": 46,
   "metadata": {},
   "outputs": [
    {
     "name": "stdout",
     "output_type": "stream",
     "text": [
      "String contains other characters\n"
     ]
    }
   ],
   "source": [
    "s = input('Enter a string: ')\n",
    "if s.isalpha():\n",
    "    print('All characters are letters')\n",
    "elif s.isdigit():\n",
    "    print('All characters are digits')\n",
    "elif s.isalnum():\n",
    "    print('All characters are letters or digits')\n",
    "else:\n",
    "    print('String contains other characters')"
   ]
  },
  {
   "cell_type": "code",
   "execution_count": 51,
   "metadata": {},
   "outputs": [
    {
     "name": "stdout",
     "output_type": "stream",
     "text": [
      "|hello world| does not start with |ll|\n",
      "|hello world| does not end with |ll|\n",
      "ll appears 1 times in hello world\n"
     ]
    }
   ],
   "source": [
    "s1 = 'hello world'\n",
    "s2 = input('Enter a string: ')\n",
    "\n",
    "if s1.startswith(s2):\n",
    "    print(f'|{s1}| starts with |{s2}|')\n",
    "else:\n",
    "    print(f'|{s1}| does not start with |{s2}|')\n",
    "if s1.endswith(s2):\n",
    "    print(f'|{s1}| ends with |{s2}|')\n",
    "else:\n",
    "    print(f'|{s1}| does not end with |{s2}|')\n",
    "print(f'{s2} appears {s1.count(s2)} times in {s1}')"
   ]
  },
  {
   "cell_type": "code",
   "execution_count": 52,
   "metadata": {},
   "outputs": [
    {
     "name": "stdout",
     "output_type": "stream",
     "text": [
      "|    Hello World     |\n"
     ]
    }
   ],
   "source": [
    "s = '    heLLo wORLd       '\n",
    "print(f'|{s.strip().title().center(20)}|') # call string methods in sequence"
   ]
  },
  {
   "cell_type": "code",
   "execution_count": null,
   "metadata": {},
   "outputs": [],
   "source": [
    "from string import punctuation\n",
    "print(punctuation)\n",
    "s = 'Abc!23@def%*)(ghi)'\n",
    "print(s)\n",
    "for c in punctuation:\n",
    "    if c in s:\n",
    "        s = s.replace(c, '') # remove c from s\n",
    "print(s)"
   ]
  },
  {
   "cell_type": "code",
   "execution_count": null,
   "metadata": {},
   "outputs": [],
   "source": [
    "s = 'Abc!23@def%*)(ghi)'\n",
    "new_s = []\n",
    "for c in s:\n",
    "    if c not in punctuation:\n",
    "        new_s.append(c)\n",
    "s = ''.join(new_s)\n",
    "print(s)"
   ]
  },
  {
   "cell_type": "code",
   "execution_count": 58,
   "metadata": {},
   "outputs": [],
   "source": [
    "def word_count(content):\n",
    "    # remove punctuation\n",
    "    for c in punctuation:\n",
    "        if c in content:\n",
    "            content = content.replace(c, '')\n",
    "    # remove leading and trailing spaces\n",
    "    content = content.strip()\n",
    "    # remove multiple spaces\n",
    "    content = ' '.join(content.split())\n",
    "    # count words\n",
    "    return len(content.split())"
   ]
  },
  {
   "cell_type": "code",
   "execution_count": 59,
   "metadata": {},
   "outputs": [
    {
     "name": "stdout",
     "output_type": "stream",
     "text": [
      "79\n"
     ]
    }
   ],
   "source": [
    "exercises = 'Theo kế hoạch chỉnh trang và phát triển đô thị ở TP HCM giai đoạn 2021-2025, thành phố đặt mục tiêu hoàn thành bồi thường, di dời 6.500 căn nhà trên và ven kênh rạch, tổng nhu cầu vốn hơn 19.000 tỷ đồng. Mục tiêu này vừa để giải quyết thoát nước, cải thiện môi trường vừa chỉnh trang đô thị. Tuy nhiên, đến nay thành phố mới bồi thường và dời được gần 700 căn, đạt hơn 10%.'\n",
    "print(word_count(exercises))"
   ]
  }
 ],
 "metadata": {
  "kernelspec": {
   "display_name": "Python 3",
   "language": "python",
   "name": "python3"
  },
  "language_info": {
   "codemirror_mode": {
    "name": "ipython",
    "version": 3
   },
   "file_extension": ".py",
   "mimetype": "text/x-python",
   "name": "python",
   "nbconvert_exporter": "python",
   "pygments_lexer": "ipython3",
   "version": "3.9.12"
  }
 },
 "nbformat": 4,
 "nbformat_minor": 2
}
