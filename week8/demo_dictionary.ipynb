{
 "cells": [
  {
   "cell_type": "code",
   "execution_count": 6,
   "metadata": {},
   "outputs": [
    {
     "name": "stdout",
     "output_type": "stream",
     "text": [
      "Translate hate to Vietnamese: ghet\n"
     ]
    }
   ],
   "source": [
    "# declare dictionary\n",
    "d = {} # empty dictionary\n",
    "eng_vie = {'hello': 'xin chao', 'goodbye': 'tam biet', 'love': 'yeu', 'hate': 'ghet'}\n",
    "\n",
    "en_word = input('Enter English word: ')\n",
    "\n",
    "if en_word not in eng_vie:\n",
    "    print(f'Not found {en_word} in dictionary')\n",
    "else:\n",
    "    vn_word = eng_vie[en_word]\n",
    "    print(f'Translate {en_word} to Vietnamese: {vn_word}')"
   ]
  },
  {
   "cell_type": "code",
   "execution_count": 9,
   "metadata": {},
   "outputs": [
    {
     "name": "stdout",
     "output_type": "stream",
     "text": [
      "This word hello is already in dictionary\n"
     ]
    }
   ],
   "source": [
    "def print_dict(d):\n",
    "        for k, v in d.items():\n",
    "            print(f'{k}: {v}')\n",
    "\n",
    "en_word = input('Enter a new English word: ')\n",
    "vn_word = input('Enter a translate Vietnamese word: ')\n",
    "if en_word in eng_vie:\n",
    "    print(f'This word {en_word} is already in dictionary')\n",
    "else:\n",
    "    # add to the dictionary\n",
    "    eng_vie[en_word] = vn_word\n",
    "    print_dict(eng_vie)"
   ]
  },
  {
   "cell_type": "code",
   "execution_count": null,
   "metadata": {},
   "outputs": [],
   "source": [
    "en_word = input('Enter a current English word: ')\n",
    "vn_word = input('Enter a new translate Vietnamese word: ')\n",
    "if en_word not in eng_vie:\n",
    "    print(f'This word {en_word} is not in dictionary')\n",
    "else:\n",
    "    # change (en_word, vn_word) in the dictionary\n",
    "    eng_vie[en_word] = vn_word\n",
    "    print_dict(eng_vie)"
   ]
  },
  {
   "cell_type": "code",
   "execution_count": 11,
   "metadata": {},
   "outputs": [
    {
     "name": "stdout",
     "output_type": "stream",
     "text": [
      "goodbye: tam biet\n",
      "love: yeu\n",
      "hate: ghet\n",
      "class: lop\n"
     ]
    }
   ],
   "source": [
    "en_word = input('Enter a current word to delete: ')\n",
    "if en_word not in eng_vie:\n",
    "    print(f'Word {en_word} is not in dictionary')\n",
    "else:\n",
    "    eng_vie.pop(en_word)\n",
    "    print_dict(eng_vie)"
   ]
  }
 ],
 "metadata": {
  "kernelspec": {
   "display_name": "Python 3",
   "language": "python",
   "name": "python3"
  },
  "language_info": {
   "codemirror_mode": {
    "name": "ipython",
    "version": 3
   },
   "file_extension": ".py",
   "mimetype": "text/x-python",
   "name": "python",
   "nbconvert_exporter": "python",
   "pygments_lexer": "ipython3",
   "version": "3.9.12"
  }
 },
 "nbformat": 4,
 "nbformat_minor": 2
}
