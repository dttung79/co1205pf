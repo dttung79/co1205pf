{
 "cells": [
  {
   "cell_type": "code",
   "execution_count": 1,
   "metadata": {},
   "outputs": [],
   "source": [
    "def say_hello():\n",
    "    print('Hello')"
   ]
  },
  {
   "cell_type": "code",
   "execution_count": 3,
   "metadata": {},
   "outputs": [
    {
     "name": "stdout",
     "output_type": "stream",
     "text": [
      "Hello\n",
      "Hello\n"
     ]
    }
   ],
   "source": [
    "say_hello()\n",
    "say_hello()"
   ]
  },
  {
   "cell_type": "code",
   "execution_count": 4,
   "metadata": {},
   "outputs": [
    {
     "name": "stdout",
     "output_type": "stream",
     "text": [
      "Hello John\n"
     ]
    }
   ],
   "source": [
    "def say_hello(name):\n",
    "    print('Hello ' + name) # name is a variable inside the function\n",
    "\n",
    "name = input('Enter your name: ') # name is a variable outside the function\n",
    "say_hello(name)"
   ]
  },
  {
   "cell_type": "code",
   "execution_count": 5,
   "metadata": {},
   "outputs": [],
   "source": [
    "def print_line(n):\n",
    "    for i in range(n):\n",
    "        print('*', end=' ')\n",
    "    print()"
   ]
  },
  {
   "cell_type": "code",
   "execution_count": 6,
   "metadata": {},
   "outputs": [
    {
     "name": "stdout",
     "output_type": "stream",
     "text": [
      "* * * * * \n"
     ]
    }
   ],
   "source": [
    "print_line(5)"
   ]
  },
  {
   "cell_type": "code",
   "execution_count": 7,
   "metadata": {},
   "outputs": [
    {
     "name": "stdout",
     "output_type": "stream",
     "text": [
      "* * * * * \n",
      "* * * * * \n",
      "* * * * * \n",
      "* * * * * \n",
      "* * * * * \n"
     ]
    }
   ],
   "source": [
    "n = 5\n",
    "for i in range(n):\n",
    "    print_line(n)"
   ]
  },
  {
   "cell_type": "code",
   "execution_count": 8,
   "metadata": {},
   "outputs": [
    {
     "name": "stdout",
     "output_type": "stream",
     "text": [
      "* \n",
      "* * \n",
      "* * * \n",
      "* * * * \n",
      "* * * * * \n"
     ]
    }
   ],
   "source": [
    "for i in range(1, n + 1):\n",
    "    print_line(i)"
   ]
  },
  {
   "cell_type": "code",
   "execution_count": 9,
   "metadata": {},
   "outputs": [],
   "source": [
    "def print_student(name, age, avg_grade):\n",
    "    print('Name: ' + name)\n",
    "    print('Age: ' + str(age))\n",
    "    print('Average grade: ' + str(avg_grade))"
   ]
  },
  {
   "cell_type": "code",
   "execution_count": 11,
   "metadata": {},
   "outputs": [
    {
     "name": "stdout",
     "output_type": "stream",
     "text": [
      "Name: John\n",
      "Age: 20\n",
      "Average grade: 8.5\n",
      "Name: Mike\n",
      "Age: 18\n",
      "Average grade: 9.3\n"
     ]
    }
   ],
   "source": [
    "print_student('John', 20, 8.5)\n",
    "name = input('Enter student name: ')\n",
    "age = int(input('Enter student age: '))\n",
    "avg_grade = float(input('Enter student average grade: '))\n",
    "print_student(name, age, avg_grade)"
   ]
  },
  {
   "cell_type": "code",
   "execution_count": 12,
   "metadata": {},
   "outputs": [],
   "source": [
    "# Write a function to print the interest\n",
    "# Input is the initial balance, number of months and interest rate\n",
    "# The formula is: new_balance = balance * (1 + interest_rate / 100) ** number_of_months\n",
    "def print_interest(balance, n_months, interest_rate):\n",
    "    new_balance = balance * (1 + interest_rate / 100) ** n_months\n",
    "    interest = new_balance - balance\n",
    "    print(f'Interest of {balance} after {n_months} months is {interest:.2f}')"
   ]
  },
  {
   "cell_type": "code",
   "execution_count": 13,
   "metadata": {},
   "outputs": [
    {
     "name": "stdout",
     "output_type": "stream",
     "text": [
      "Interest of 1000 after 6 months is 340.10\n"
     ]
    }
   ],
   "source": [
    "balance = 1000\n",
    "n_months = 6\n",
    "interest_rate = 5\n",
    "print_interest(balance, n_months, interest_rate)"
   ]
  },
  {
   "cell_type": "code",
   "execution_count": 14,
   "metadata": {},
   "outputs": [],
   "source": [
    "# Scope of variables inside and outside function\n",
    "def double(a):\n",
    "    a = a * 2\n",
    "    print(f'value of a inside function: {a}')"
   ]
  },
  {
   "cell_type": "code",
   "execution_count": 17,
   "metadata": {},
   "outputs": [
    {
     "name": "stdout",
     "output_type": "stream",
     "text": [
      "value of a before function: 10\n",
      "value of a inside function: 20\n",
      "value of a after function: 10\n",
      "value of a inside function: 200\n"
     ]
    }
   ],
   "source": [
    "a = 10\n",
    "print(f'value of a before function: {a}')\n",
    "double(a)\n",
    "print(f'value of a after function: {a}')\n",
    "\n",
    "double(100)"
   ]
  },
  {
   "cell_type": "code",
   "execution_count": 18,
   "metadata": {},
   "outputs": [],
   "source": [
    "def double(a):\n",
    "    return a * 2"
   ]
  },
  {
   "cell_type": "code",
   "execution_count": null,
   "metadata": {},
   "outputs": [],
   "source": [
    "print(double(10)) # returned value is used to print"
   ]
  },
  {
   "cell_type": "code",
   "execution_count": null,
   "metadata": {},
   "outputs": [],
   "source": [
    "a = 10\n",
    "print(double(a))\n",
    "print(a)"
   ]
  },
  {
   "cell_type": "code",
   "execution_count": null,
   "metadata": {},
   "outputs": [],
   "source": [
    "a = 10\n",
    "a = double(a) # returned value is stored in a variable\n",
    "print(a)"
   ]
  },
  {
   "cell_type": "code",
   "execution_count": null,
   "metadata": {},
   "outputs": [],
   "source": [
    "a = double(10) + double(20) # returned value is used in an expression\n",
    "print(a)"
   ]
  },
  {
   "cell_type": "code",
   "execution_count": null,
   "metadata": {},
   "outputs": [],
   "source": [
    "double(10) # returned value is not used"
   ]
  },
  {
   "cell_type": "code",
   "execution_count": 24,
   "metadata": {},
   "outputs": [],
   "source": [
    "# Write a function that takes n as a parameter\n",
    "# Calculate sum from 1 to n and return the sum\n",
    "def sum_n(n):\n",
    "    s = 0\n",
    "    for i in range(1, n + 1):\n",
    "        s += i # s = s + i\n",
    "    return s"
   ]
  },
  {
   "cell_type": "code",
   "execution_count": 27,
   "metadata": {},
   "outputs": [
    {
     "name": "stdout",
     "output_type": "stream",
     "text": [
      "55\n",
      "210\n",
      "265\n"
     ]
    }
   ],
   "source": [
    "print(sum_n(10))\n",
    "n = 20\n",
    "s20 = sum_n(n)\n",
    "print(s20)\n",
    "s = sum_n(10) + sum_n(20)\n",
    "print(s)"
   ]
  },
  {
   "cell_type": "code",
   "execution_count": 34,
   "metadata": {},
   "outputs": [
    {
     "name": "stdout",
     "output_type": "stream",
     "text": [
      "+ + + + + \n",
      "+ + + + + \n",
      "+ + + + + \n",
      "+ + + + + \n",
      "+ + + + + \n",
      "8 8 8 8 8 8 8 \n",
      "8 8 8 8 8 8 8 \n",
      "8 8 8 8 8 8 8 \n",
      "8 8 8 8 8 8 8 \n",
      "8 8 8 8 8 8 8 \n",
      "8 8 8 8 8 8 8 \n",
      "8 8 8 8 8 8 8 \n"
     ]
    }
   ],
   "source": [
    "def print_line(n, c='*'):\n",
    "    for i in range(n):\n",
    "        print(c, end=' ')\n",
    "    print()\n",
    "\n",
    "def print_square(n, c):\n",
    "    for i in range(n):\n",
    "        print_line(n, c)\n",
    "\n",
    "print_square(5, '+')\n",
    "n = int(input('Enter n: '))\n",
    "c = input('Enter character: ')\n",
    "print_square(n, c)"
   ]
  },
  {
   "cell_type": "code",
   "execution_count": 37,
   "metadata": {},
   "outputs": [
    {
     "name": "stdout",
     "output_type": "stream",
     "text": [
      "* * * * * \n",
      "+ + + + + \n",
      "! ! ! ! ! \n"
     ]
    }
   ],
   "source": [
    "print_line(5) # print 5 stars by default\n",
    "print_line(5, c='+') # print 5 plus signs (value of c is '+')\n",
    "print_line(5, c='!')"
   ]
  },
  {
   "cell_type": "code",
   "execution_count": 39,
   "metadata": {},
   "outputs": [
    {
     "name": "stdout",
     "output_type": "stream",
     "text": [
      "3++++++4++++++5******"
     ]
    }
   ],
   "source": [
    "print(3, 4, 5, end='******', sep='++++++')"
   ]
  },
  {
   "cell_type": "code",
   "execution_count": null,
   "metadata": {},
   "outputs": [],
   "source": [
    "# Write a function that takes 3 sides of a triangle as parameters\n",
    "# Calculate and return the area of the triangle\n",
    "# If inputs are not validated, return -1"
   ]
  }
 ],
 "metadata": {
  "kernelspec": {
   "display_name": "Python 3",
   "language": "python",
   "name": "python3"
  },
  "language_info": {
   "codemirror_mode": {
    "name": "ipython",
    "version": 3
   },
   "file_extension": ".py",
   "mimetype": "text/x-python",
   "name": "python",
   "nbconvert_exporter": "python",
   "pygments_lexer": "ipython3",
   "version": "3.9.12"
  }
 },
 "nbformat": 4,
 "nbformat_minor": 2
}
