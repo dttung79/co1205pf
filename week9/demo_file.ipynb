{
 "cells": [
  {
   "cell_type": "code",
   "execution_count": 11,
   "metadata": {},
   "outputs": [
    {
     "name": "stdout",
     "output_type": "stream",
     "text": [
      "1: Hello\n",
      "2: Hello World\n",
      "3: Hello Python World\n"
     ]
    }
   ],
   "source": [
    "# open a file in 'read' mode\n",
    "f = open('hello.txt', 'r')\n",
    "# read all content of the file into a string\n",
    "content = f.read()\n",
    "lines = content.split('\\n')\n",
    "for i in range(len(lines)):\n",
    "    print(f'{i+1}: {lines[i]}')\n",
    "\n",
    "# close file when done\n",
    "f.close()"
   ]
  },
  {
   "cell_type": "code",
   "execution_count": 9,
   "metadata": {},
   "outputs": [
    {
     "name": "stdout",
     "output_type": "stream",
     "text": [
      "['Hello\\n', 'Hello World\\n', 'Hello Python World']\n",
      "1: Hello\n",
      "2: Hello World\n",
      "3: Hello Python World\n"
     ]
    }
   ],
   "source": [
    "f = open('hello.txt', 'r')\n",
    "lines = f.readlines() # read all lines into a list\n",
    "print(lines)\n",
    "# print each line\n",
    "for i in range(len(lines)):\n",
    "    print(f'{i+1}: {lines[i].strip()}')\n",
    "\n",
    "f.close()"
   ]
  },
  {
   "cell_type": "code",
   "execution_count": null,
   "metadata": {},
   "outputs": [],
   "source": [
    "f = open('hello.txt', 'r')\n",
    "line = f.readline() # read 1st line\n",
    "i = 1\n",
    "while line != '':\n",
    "    print(f'{i}: {line.strip()}')\n",
    "    line = f.readline() # read next line\n",
    "    i += 1\n",
    "\n",
    "f.close()"
   ]
  },
  {
   "cell_type": "code",
   "execution_count": 14,
   "metadata": {},
   "outputs": [
    {
     "name": "stdout",
     "output_type": "stream",
     "text": [
      "Hello\n",
      "Hello World\n",
      "Hello Python World\n"
     ]
    }
   ],
   "source": [
    "# use with to open a file, don't need to close it\n",
    "with open('hello.txt', 'r') as f:\n",
    "    content = f.read()\n",
    "    print(content)"
   ]
  },
  {
   "cell_type": "code",
   "execution_count": 1,
   "metadata": {},
   "outputs": [
    {
     "name": "stdout",
     "output_type": "stream",
     "text": [
      "The Triboro Bridge and Tunnel Authority\n",
      "The Metropolitan Transit Authority\n",
      "The Port Authority of New York and New Jersey\n"
     ]
    }
   ],
   "source": [
    "# Ex1: Read file agencies.txt, find the agencies with the 'Authority' in their name\n",
    "try:\n",
    "    f = open('agencies.txt', 'r')\n",
    "    lines = f.readlines()\n",
    "    for line in lines:\n",
    "        if 'authority' in line.strip().lower():\n",
    "            print(line.strip())\n",
    "except FileNotFoundError:\n",
    "    print('File not found')"
   ]
  },
  {
   "cell_type": "code",
   "execution_count": null,
   "metadata": {},
   "outputs": [],
   "source": [
    "import os\n",
    "\n",
    "def print_directory(path):\n",
    "    if not os.path.isdir(path):\n",
    "        print(f'- {path.split(\"/\")[-1]}')\n",
    "    else:\n",
    "        print(f'+ {path.split(\"/\")[-1]}')\n",
    "        files = os.listdir(path)\n",
    "        for f in files:\n",
    "            print_directory(path + '/' + f)\n",
    "\n",
    "\n",
    "path = input('Enter a directory: ')\n",
    "print_directory(path)"
   ]
  }
 ],
 "metadata": {
  "kernelspec": {
   "display_name": "Python 3",
   "language": "python",
   "name": "python3"
  },
  "language_info": {
   "codemirror_mode": {
    "name": "ipython",
    "version": 3
   },
   "file_extension": ".py",
   "mimetype": "text/x-python",
   "name": "python",
   "nbconvert_exporter": "python",
   "pygments_lexer": "ipython3",
   "version": "3.9.12"
  }
 },
 "nbformat": 4,
 "nbformat_minor": 2
}
