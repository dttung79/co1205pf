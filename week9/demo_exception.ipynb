{
 "cells": [
  {
   "cell_type": "code",
   "execution_count": 11,
   "metadata": {},
   "outputs": [
    {
     "name": "stdout",
     "output_type": "stream",
     "text": [
      "6 0\n",
      "Can not divide by zero. Please enter a non-zero number\n"
     ]
    }
   ],
   "source": [
    "try:\n",
    "    a = int(input('Enter a: '))\n",
    "    b = int(input('Enter b:'))\n",
    "    print(a, b)\n",
    "    c = a / b\n",
    "    print(c)\n",
    "except ValueError:\n",
    "    print('Invalid input. Please enter a number')\n",
    "except ZeroDivisionError:\n",
    "    print('Can not divide by zero. Please enter a non-zero number')"
   ]
  },
  {
   "cell_type": "code",
   "execution_count": 16,
   "metadata": {},
   "outputs": [
    {
     "name": "stdout",
     "output_type": "stream",
     "text": [
      "Can not divide by zero. Please index of a non-zero item\n"
     ]
    }
   ],
   "source": [
    "try:\n",
    "    a = [19, 8, 9, 0, 2, 73, 12]\n",
    "    s = sum(a)\n",
    "    i = int(input('Enter index:'))\n",
    "    print(s/a[i])\n",
    "except ValueError:\n",
    "    print('Invalid input. Please enter a number')\n",
    "except IndexError:\n",
    "    print(f'Invalid index. Please enter a valid index in range [0, {len(a)-1}]')\n",
    "except ZeroDivisionError:\n",
    "    print('Can not divide by zero. Please index of a non-zero item')"
   ]
  },
  {
   "cell_type": "code",
   "execution_count": 21,
   "metadata": {},
   "outputs": [
    {
     "name": "stdout",
     "output_type": "stream",
     "text": [
      "love in Vietnamese is yeu\n"
     ]
    }
   ],
   "source": [
    "en_vi = {'hello': 'xin chao', 'goodbye': 'tam biet', 'love': 'yeu'}\n",
    "try:\n",
    "    en_word = input('Enter an English word: ')\n",
    "    print(f'{en_word} in Vietnamese is {en_vi[en_word]}')\n",
    "except KeyError:\n",
    "    print(f'{en_word} is not in the dictionary')"
   ]
  },
  {
   "cell_type": "code",
   "execution_count": 25,
   "metadata": {},
   "outputs": [
    {
     "name": "stdout",
     "output_type": "stream",
     "text": [
      "File hello not found\n"
     ]
    }
   ],
   "source": [
    "try:\n",
    "    fname = input('Enter file name: ')\n",
    "    f = open(fname, 'r')\n",
    "    content = f.read()\n",
    "    print(content)\n",
    "    f.close()\n",
    "except FileNotFoundError:\n",
    "    print(f'File {fname} not found')"
   ]
  }
 ],
 "metadata": {
  "kernelspec": {
   "display_name": "Python 3",
   "language": "python",
   "name": "python3"
  },
  "language_info": {
   "codemirror_mode": {
    "name": "ipython",
    "version": 3
   },
   "file_extension": ".py",
   "mimetype": "text/x-python",
   "name": "python",
   "nbconvert_exporter": "python",
   "pygments_lexer": "ipython3",
   "version": "3.9.12"
  }
 },
 "nbformat": 4,
 "nbformat_minor": 2
}
