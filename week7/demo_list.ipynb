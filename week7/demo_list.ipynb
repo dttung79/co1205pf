{
 "cells": [
  {
   "cell_type": "code",
   "execution_count": null,
   "metadata": {},
   "outputs": [],
   "source": [
    "# declare a list\n",
    "a = [] # empty list\n",
    "b = [1] # list with one element\n",
    "c = ['Paul', 'Mike', 'Anna'] # list with 3 strings\n",
    "print(a)\n",
    "print(b)\n",
    "print(c)"
   ]
  },
  {
   "cell_type": "code",
   "execution_count": null,
   "metadata": {},
   "outputs": [],
   "source": [
    "# access elements in a list (use zero-based index)\n",
    "print(c[0]) # Paul\n",
    "print(c[1]) # Mike\n",
    "c[2] = 'Mary' # change the third element\n",
    "print(c)"
   ]
  },
  {
   "cell_type": "code",
   "execution_count": 3,
   "metadata": {},
   "outputs": [
    {
     "name": "stdout",
     "output_type": "stream",
     "text": [
      "[1, 2, 'Paul', 3.14, True]\n"
     ]
    }
   ],
   "source": [
    "# list of mixed types\n",
    "d = [1, 2, 'Paul', 3.14, True]\n",
    "print(d)"
   ]
  },
  {
   "cell_type": "code",
   "execution_count": 6,
   "metadata": {},
   "outputs": [
    {
     "name": "stdout",
     "output_type": "stream",
     "text": [
      "[None, None, None] [None, None, None, None, None, None, None, None, None, None]\n"
     ]
    }
   ],
   "source": [
    "# list of None\n",
    "e = [None, None, None]\n",
    "f = [None] * 10\n",
    "print(e, f)"
   ]
  },
  {
   "cell_type": "code",
   "execution_count": null,
   "metadata": {},
   "outputs": [],
   "source": [
    "# List operators: +, *, in, not in"
   ]
  },
  {
   "cell_type": "code",
   "execution_count": null,
   "metadata": {},
   "outputs": [],
   "source": [
    "a = [1, 2, 3]\n",
    "b = [4, 5, 6]\n",
    "c = a + b\n",
    "print(c)"
   ]
  },
  {
   "cell_type": "code",
   "execution_count": null,
   "metadata": {},
   "outputs": [],
   "source": [
    "a = ['hello'] * 3\n",
    "print(a)\n",
    "b = [1, 2, 3] * 4\n",
    "print(b)"
   ]
  },
  {
   "cell_type": "code",
   "execution_count": 10,
   "metadata": {},
   "outputs": [
    {
     "name": "stdout",
     "output_type": "stream",
     "text": [
      "52 is not in [85, 14, 71, 63, 8, 94, 77, 61, 64, 41]\n"
     ]
    }
   ],
   "source": [
    "import random as rd\n",
    "a = rd.sample(range(100), 10) # generate a list of 10 random numbers from 0 to 99\n",
    "n = int(input('Enter n: '))\n",
    "if n in a:\n",
    "    print(f'{n} is in {a}')\n",
    "else:\n",
    "    print(f'{n} is not in {a}')"
   ]
  },
  {
   "cell_type": "code",
   "execution_count": null,
   "metadata": {},
   "outputs": [],
   "source": [
    "# Popular basic algorithms with list: traversal, search, max / min, sum, count\n",
    "# traversal using for loop\n",
    "print(a)\n",
    "for i in a:             # loop through all elements in a\n",
    "    print(i, end=' ')\n",
    "print()\n",
    "for i in range(len(a)): # loop through all indices of a\n",
    "    print(i, ':', a[i])"
   ]
  },
  {
   "cell_type": "code",
   "execution_count": 16,
   "metadata": {},
   "outputs": [
    {
     "name": "stdout",
     "output_type": "stream",
     "text": [
      "[85, 14, 71, 63, 8, 94, 77, 61, 64, 41]\n",
      "14 8 94 64 "
     ]
    }
   ],
   "source": [
    "# Ex: print only even numbers in a (using both ways)\n",
    "print(a)\n",
    "for n in a:\n",
    "    if n % 2 == 0:\n",
    "        print(n, end=' ')   "
   ]
  },
  {
   "cell_type": "code",
   "execution_count": 17,
   "metadata": {},
   "outputs": [
    {
     "name": "stdout",
     "output_type": "stream",
     "text": [
      "14 8 94 64 "
     ]
    }
   ],
   "source": [
    "for i in range(len(a)):\n",
    "    if a[i] % 2 == 0:\n",
    "        print(a[i], end=' ')"
   ]
  },
  {
   "cell_type": "code",
   "execution_count": 18,
   "metadata": {},
   "outputs": [
    {
     "name": "stdout",
     "output_type": "stream",
     "text": [
      "[85, 14, 71, 63, 8, 94, 77, 61, 64, 41]\n",
      "10 is not in [85, 14, 71, 63, 8, 94, 77, 61, 64, 41]\n"
     ]
    }
   ],
   "source": [
    "# search for existence of an element in a list\n",
    "print(a)\n",
    "n = int(input('Enter n: '))\n",
    "found = False\n",
    "\n",
    "for i in range(len(a)):\n",
    "    if a[i] == n:       # found n in a  \n",
    "        found = True    # set found to True\n",
    "        break           # no need to continue the search\n",
    "\n",
    "if found:\n",
    "    print(f'{n} is in {a}')\n",
    "else:\n",
    "    print(f'{n} is not in {a}')"
   ]
  },
  {
   "cell_type": "code",
   "execution_count": 20,
   "metadata": {},
   "outputs": [
    {
     "name": "stdout",
     "output_type": "stream",
     "text": [
      "94 is in [85, 14, 71, 63, 8, 94, 77, 61, 64, 41] at position 5\n"
     ]
    }
   ],
   "source": [
    "# search for the position of an element in a list, if not return None\n",
    "n = int(input('Enter n: '))\n",
    "position = None\n",
    "for i in range(len(a)):\n",
    "    if a[i] == n:       # found n in a\n",
    "        position = i    # update found position\n",
    "        break           # no need to continue the search\n",
    "\n",
    "if position is not None:\n",
    "    print(f'{n} is in {a} at position {position}')\n",
    "else:\n",
    "    print(f'{n} is not in {a}')"
   ]
  },
  {
   "cell_type": "code",
   "execution_count": 25,
   "metadata": {},
   "outputs": [
    {
     "name": "stdout",
     "output_type": "stream",
     "text": [
      "The price of pen is 5\n",
      "The product with price 10 is pencil\n"
     ]
    }
   ],
   "source": [
    "products = ['pen', 'pencil', 'notebook', 'eraser', 'ruler']\n",
    "prices = [5, 10, 20, 3, 15]\n",
    "\n",
    "p = input('Enter a product: ')\n",
    "position = None\n",
    "\n",
    "for i in range(len(products)):\n",
    "    if p == products[i]:\n",
    "        position = i\n",
    "        break\n",
    "\n",
    "if position is not None:\n",
    "    print(f'The price of {p} is {prices[position]}')\n",
    "else:\n",
    "    print(f'Product {p} is not available')\n",
    "\n",
    "price = int(input('Enter a price: '))\n",
    "# find product that has price = price\n",
    "position = None\n",
    "\n",
    "for i in range(len(prices)):\n",
    "    if price == prices[i]:\n",
    "        position = i\n",
    "        break\n",
    "\n",
    "if position is not None:\n",
    "    print(f'The product with price {price} is {products[position]}')\n",
    "else:\n",
    "    print(f'No product with price {price}')"
   ]
  },
  {
   "cell_type": "code",
   "execution_count": 23,
   "metadata": {},
   "outputs": [
    {
     "name": "stdout",
     "output_type": "stream",
     "text": [
      "[85, 14, 71, 63, 8, 94, 77, 61, 64, 41]\n",
      "Max = 94 at position 5\n"
     ]
    }
   ],
   "source": [
    "print(a)\n",
    "m = a[0]\n",
    "i_max = 0\n",
    "\n",
    "for i in range(1, len(a)):\n",
    "    if a[i] > m:\n",
    "        m = a[i]\n",
    "        i_max = i\n",
    "\n",
    "print(f'Max = {m} at position {i_max}')"
   ]
  },
  {
   "cell_type": "code",
   "execution_count": 26,
   "metadata": {},
   "outputs": [
    {
     "name": "stdout",
     "output_type": "stream",
     "text": [
      "['pen', 'pencil', 'notebook', 'eraser', 'ruler']\n",
      "[5, 10, 20, 3, 15]\n"
     ]
    }
   ],
   "source": [
    "print(products)\n",
    "print(prices)\n",
    "# Ex1: find the max price\n",
    "\n",
    "# Ex2: find the min price\n",
    "\n",
    "# Ex3: find the product that has the max price"
   ]
  }
 ],
 "metadata": {
  "kernelspec": {
   "display_name": "Python 3",
   "language": "python",
   "name": "python3"
  },
  "language_info": {
   "codemirror_mode": {
    "name": "ipython",
    "version": 3
   },
   "file_extension": ".py",
   "mimetype": "text/x-python",
   "name": "python",
   "nbconvert_exporter": "python",
   "pygments_lexer": "ipython3",
   "version": "3.9.12"
  }
 },
 "nbformat": 4,
 "nbformat_minor": 2
}
