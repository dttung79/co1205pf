{
 "cells": [
  {
   "cell_type": "code",
   "execution_count": 13,
   "metadata": {},
   "outputs": [
    {
     "name": "stdout",
     "output_type": "stream",
     "text": [
      "10\n",
      "20\n",
      "hello\n",
      "world\n",
      "hi\n",
      "how are you?\n",
      "10\n",
      "hello\n"
     ]
    },
    {
     "ename": "TypeError",
     "evalue": "my_funct() missing 1 required positional argument: 'b'",
     "output_type": "error",
     "traceback": [
      "\u001b[0;31m---------------------------------------------------------------------------\u001b[0m",
      "\u001b[0;31mTypeError\u001b[0m                                 Traceback (most recent call last)",
      "\u001b[1;32m/Users/tungdt/Library/CloudStorage/GoogleDrive-dttung@gmail.com/My Drive/FPTU/Program 3+0/COMP1753 - Programming Foundation/CO1205/co1205pf/week7/demo_function2.ipynb Cell 1\u001b[0m line \u001b[0;36m<cell line: 15>\u001b[0;34m()\u001b[0m\n\u001b[1;32m     <a href='vscode-notebook-cell:/Users/tungdt/Library/CloudStorage/GoogleDrive-dttung%40gmail.com/My%20Drive/FPTU/Program%203%2B0/COMP1753%20-%20Programming%20Foundation/CO1205/co1205pf/week7/demo_function2.ipynb#W0sZmlsZQ%3D%3D?line=12'>13</a>\u001b[0m my_funct(\u001b[39m'\u001b[39m\u001b[39mhi\u001b[39m\u001b[39m'\u001b[39m, \u001b[39m'\u001b[39m\u001b[39mhow are you?\u001b[39m\u001b[39m'\u001b[39m) \u001b[39m# 'hi', 'how are you?' are arguments\u001b[39;00m\n\u001b[1;32m     <a href='vscode-notebook-cell:/Users/tungdt/Library/CloudStorage/GoogleDrive-dttung%40gmail.com/My%20Drive/FPTU/Program%203%2B0/COMP1753%20-%20Programming%20Foundation/CO1205/co1205pf/week7/demo_function2.ipynb#W0sZmlsZQ%3D%3D?line=13'>14</a>\u001b[0m my_funct(x, \u001b[39m'\u001b[39m\u001b[39mhello\u001b[39m\u001b[39m'\u001b[39m) \u001b[39m# x, 'hello' are arguments\u001b[39;00m\n\u001b[0;32m---> <a href='vscode-notebook-cell:/Users/tungdt/Library/CloudStorage/GoogleDrive-dttung%40gmail.com/My%20Drive/FPTU/Program%203%2B0/COMP1753%20-%20Programming%20Foundation/CO1205/co1205pf/week7/demo_function2.ipynb#W0sZmlsZQ%3D%3D?line=14'>15</a>\u001b[0m my_funct(x)\n",
      "\u001b[0;31mTypeError\u001b[0m: my_funct() missing 1 required positional argument: 'b'"
     ]
    }
   ],
   "source": [
    "# define a function\n",
    "def my_funct(a, b): # a, b are parameters\n",
    "    print(a)\n",
    "    print(b)\n",
    "# invoke / call a function\n",
    "x = 10\n",
    "y = 20\n",
    "a = 'hello'\n",
    "b = 'world'\n",
    "\n",
    "my_funct(x, y) # x, y are arguments\n",
    "my_funct(a, b) # a, b are arguments\n",
    "my_funct('hi', 'how are you?') # 'hi', 'how are you?' are arguments\n",
    "my_funct(x, 'hello') # x, 'hello' are arguments\n",
    "my_funct(x)"
   ]
  },
  {
   "cell_type": "code",
   "execution_count": null,
   "metadata": {},
   "outputs": [],
   "source": [
    "# Scope of variables\n",
    "def swap(a, b):\n",
    "    # a, b are local variables, only exist in this function\n",
    "    temp = a\n",
    "    a = b\n",
    "    b = temp\n",
    "    print(f'a = {a}, b = {b}')\n",
    "# a, b are global variables, exist in the whole program\n",
    "a = 9\n",
    "b = 10\n",
    "swap(a, b)\n",
    "print(f'a = {a}, b = {b}')"
   ]
  },
  {
   "cell_type": "code",
   "execution_count": null,
   "metadata": {},
   "outputs": [],
   "source": [
    "a = 9\n",
    "b = 10\n",
    "def my_func():\n",
    "    a = 1\n",
    "    print(f'a = {a}, b = {b}') # local a and global b\n",
    "\n",
    "my_func()"
   ]
  },
  {
   "cell_type": "code",
   "execution_count": 7,
   "metadata": {},
   "outputs": [],
   "source": [
    "def my_func(a, b, c='hello', d=10):\n",
    "    print(f'a = {a}, b = {b}, c = {c}, d = {d}')"
   ]
  },
  {
   "cell_type": "code",
   "execution_count": null,
   "metadata": {},
   "outputs": [],
   "source": [
    "a = 1\n",
    "b = 2\n",
    "my_func(a, b)"
   ]
  },
  {
   "cell_type": "code",
   "execution_count": null,
   "metadata": {},
   "outputs": [],
   "source": [
    "my_func(a, b, 'hi')"
   ]
  },
  {
   "cell_type": "code",
   "execution_count": null,
   "metadata": {},
   "outputs": [],
   "source": [
    "my_func(a, b, 'hi', 20)"
   ]
  },
  {
   "cell_type": "code",
   "execution_count": null,
   "metadata": {},
   "outputs": [],
   "source": [
    "my_func('hi', 10, a, b)"
   ]
  },
  {
   "cell_type": "code",
   "execution_count": null,
   "metadata": {},
   "outputs": [],
   "source": [
    "my_func(a, b, d=20, c='hello')"
   ]
  }
 ],
 "metadata": {
  "kernelspec": {
   "display_name": "Python 3",
   "language": "python",
   "name": "python3"
  },
  "language_info": {
   "codemirror_mode": {
    "name": "ipython",
    "version": 3
   },
   "file_extension": ".py",
   "mimetype": "text/x-python",
   "name": "python",
   "nbconvert_exporter": "python",
   "pygments_lexer": "ipython3",
   "version": "3.9.12"
  }
 },
 "nbformat": 4,
 "nbformat_minor": 2
}
