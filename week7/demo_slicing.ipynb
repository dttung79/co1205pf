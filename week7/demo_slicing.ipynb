{
 "cells": [
  {
   "cell_type": "code",
   "execution_count": 1,
   "metadata": {},
   "outputs": [
    {
     "name": "stdout",
     "output_type": "stream",
     "text": [
      "[5, 66, 81, 42, 57, 78, 16, 14, 61, 62]\n"
     ]
    }
   ],
   "source": [
    "import random as rd\n",
    "numbers = rd.sample(range(1, 100), 10)\n",
    "print(numbers)"
   ]
  },
  {
   "cell_type": "code",
   "execution_count": 3,
   "metadata": {},
   "outputs": [
    {
     "name": "stdout",
     "output_type": "stream",
     "text": [
      "[5, 66, 81, 42]\n",
      "[5, 66, 81, 42]\n"
     ]
    }
   ],
   "source": [
    "# get the first 4 elements\n",
    "b = numbers[0:4]\n",
    "print(b)\n",
    "b = numbers[:4] # skip 0 by default\n",
    "print(b)"
   ]
  },
  {
   "cell_type": "code",
   "execution_count": 5,
   "metadata": {},
   "outputs": [
    {
     "name": "stdout",
     "output_type": "stream",
     "text": [
      "[14, 61, 62]\n",
      "[14, 61, 62]\n"
     ]
    }
   ],
   "source": [
    "# get the last 3 elements\n",
    "b = numbers[7:10]\n",
    "print(b)\n",
    "b = numbers[7:] # skip last item by default\n",
    "print(b)"
   ]
  },
  {
   "cell_type": "code",
   "execution_count": 6,
   "metadata": {},
   "outputs": [
    {
     "name": "stdout",
     "output_type": "stream",
     "text": [
      "[81, 42, 57, 78]\n"
     ]
    }
   ],
   "source": [
    "print(numbers[2:6])"
   ]
  },
  {
   "cell_type": "code",
   "execution_count": 12,
   "metadata": {},
   "outputs": [
    {
     "name": "stdout",
     "output_type": "stream",
     "text": [
      "[5, 66, 81, 42, 57, 78, 16, 14, 61, 62]\n",
      "62 5\n",
      "[14, 61, 62]\n"
     ]
    }
   ],
   "source": [
    "# Negative indexing: \n",
    "# -1 is the last element, -n is the first element (if list has n elements)\n",
    "print(numbers)\n",
    "print(numbers[-1], numbers[-10])\n",
    "# get 3 last numbers:\n",
    "print(numbers[-3:])"
   ]
  },
  {
   "cell_type": "code",
   "execution_count": 15,
   "metadata": {},
   "outputs": [
    {
     "name": "stdout",
     "output_type": "stream",
     "text": [
      "[5, 66, 81, 42, 57, 78, 16, 14, 61, 62]\n",
      "[5, 81, 57, 16, 61]\n",
      "[5, 81, 57, 16, 61]\n",
      "[66, 42, 78, 14, 62]\n"
     ]
    }
   ],
   "source": [
    "# Full syntax of slicing: [start:end:step]\n",
    "print(numbers)\n",
    "print(numbers[0:10:2])\n",
    "print(numbers[::2])\n",
    "print(numbers[1::2])"
   ]
  },
  {
   "cell_type": "code",
   "execution_count": 19,
   "metadata": {},
   "outputs": [
    {
     "name": "stdout",
     "output_type": "stream",
     "text": [
      "[5, 66, 81, 42, 57, 78, 16, 14, 61, 62]\n",
      "[62, 61, 14, 16, 78, 57, 42, 81, 66, 5]\n",
      "[61, 14, 16, 78, 57, 42]\n"
     ]
    }
   ],
   "source": [
    "# reverse list using slicing\n",
    "print(numbers)\n",
    "print(numbers[::-1])\n",
    "print(numbers[-2:2:-1])"
   ]
  }
 ],
 "metadata": {
  "kernelspec": {
   "display_name": "Python 3",
   "language": "python",
   "name": "python3"
  },
  "language_info": {
   "codemirror_mode": {
    "name": "ipython",
    "version": 3
   },
   "file_extension": ".py",
   "mimetype": "text/x-python",
   "name": "python",
   "nbconvert_exporter": "python",
   "pygments_lexer": "ipython3",
   "version": "3.9.12"
  }
 },
 "nbformat": 4,
 "nbformat_minor": 2
}
